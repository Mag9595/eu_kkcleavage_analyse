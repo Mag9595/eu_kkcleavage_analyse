{
 "cells": [
  {
   "cell_type": "code",
   "execution_count": 1,
   "id": "fbc121e30a2defb3",
   "metadata": {},
   "outputs": [
    {
     "data": {
      "text/plain": [
       "'2.2.2'"
      ]
     },
     "execution_count": 1,
     "metadata": {},
     "output_type": "execute_result"
    }
   ],
   "source": [
    "from itertools import count\n",
    "\n",
    "import pandas as pd\n",
    "from pandas import Index\n",
    "\n",
    "pd.__version__"
   ]
  },
  {
   "cell_type": "markdown",
   "id": "a33c064bdd25c31c",
   "metadata": {},
   "source": [
    "Datei einlesen"
   ]
  },
  {
   "cell_type": "code",
   "execution_count": 3,
   "id": "3bd1922e40a1a005",
   "metadata": {},
   "outputs": [
    {
     "ename": "FileNotFoundError",
     "evalue": "[Errno 2] No such file or directory: 'data/ZA8732_v1-0-0.xlsx'",
     "output_type": "error",
     "traceback": [
      "\u001b[1;31m---------------------------------------------------------------------------\u001b[0m",
      "\u001b[1;31mFileNotFoundError\u001b[0m                         Traceback (most recent call last)",
      "Cell \u001b[1;32mIn[3], line 1\u001b[0m\n\u001b[1;32m----> 1\u001b[0m df \u001b[38;5;241m=\u001b[39m pd\u001b[38;5;241m.\u001b[39mread_excel(\u001b[38;5;124m'\u001b[39m\u001b[38;5;124mdata/ZA8732_v1-0-0.xlsx\u001b[39m\u001b[38;5;124m'\u001b[39m)\n\u001b[0;32m      2\u001b[0m question_regex_filter \u001b[38;5;241m=\u001b[39m \u001b[38;5;124mr\u001b[39m\u001b[38;5;124m'\u001b[39m\u001b[38;5;124m[f]\u001b[39m\u001b[38;5;124m\\\u001b[39m\u001b[38;5;124md+_\u001b[39m\u001b[38;5;124m\\\u001b[39m\u001b[38;5;124md+\u001b[39m\u001b[38;5;124m'\u001b[39m\n\u001b[0;32m      3\u001b[0m questions \u001b[38;5;241m=\u001b[39m df\u001b[38;5;241m.\u001b[39mfilter(regex\u001b[38;5;241m=\u001b[39mquestion_regex_filter, axis\u001b[38;5;241m=\u001b[39m\u001b[38;5;124m\"\u001b[39m\u001b[38;5;124mcolumns\u001b[39m\u001b[38;5;124m\"\u001b[39m)\n",
      "File \u001b[1;32mD:\\CAU_Uni\\Semester_8\\EI\\Anaconda\\Lib\\site-packages\\pandas\\io\\excel\\_base.py:495\u001b[0m, in \u001b[0;36mread_excel\u001b[1;34m(io, sheet_name, header, names, index_col, usecols, dtype, engine, converters, true_values, false_values, skiprows, nrows, na_values, keep_default_na, na_filter, verbose, parse_dates, date_parser, date_format, thousands, decimal, comment, skipfooter, storage_options, dtype_backend, engine_kwargs)\u001b[0m\n\u001b[0;32m    493\u001b[0m \u001b[38;5;28;01mif\u001b[39;00m \u001b[38;5;129;01mnot\u001b[39;00m \u001b[38;5;28misinstance\u001b[39m(io, ExcelFile):\n\u001b[0;32m    494\u001b[0m     should_close \u001b[38;5;241m=\u001b[39m \u001b[38;5;28;01mTrue\u001b[39;00m\n\u001b[1;32m--> 495\u001b[0m     io \u001b[38;5;241m=\u001b[39m ExcelFile(\n\u001b[0;32m    496\u001b[0m         io,\n\u001b[0;32m    497\u001b[0m         storage_options\u001b[38;5;241m=\u001b[39mstorage_options,\n\u001b[0;32m    498\u001b[0m         engine\u001b[38;5;241m=\u001b[39mengine,\n\u001b[0;32m    499\u001b[0m         engine_kwargs\u001b[38;5;241m=\u001b[39mengine_kwargs,\n\u001b[0;32m    500\u001b[0m     )\n\u001b[0;32m    501\u001b[0m \u001b[38;5;28;01melif\u001b[39;00m engine \u001b[38;5;129;01mand\u001b[39;00m engine \u001b[38;5;241m!=\u001b[39m io\u001b[38;5;241m.\u001b[39mengine:\n\u001b[0;32m    502\u001b[0m     \u001b[38;5;28;01mraise\u001b[39;00m \u001b[38;5;167;01mValueError\u001b[39;00m(\n\u001b[0;32m    503\u001b[0m         \u001b[38;5;124m\"\u001b[39m\u001b[38;5;124mEngine should not be specified when passing \u001b[39m\u001b[38;5;124m\"\u001b[39m\n\u001b[0;32m    504\u001b[0m         \u001b[38;5;124m\"\u001b[39m\u001b[38;5;124man ExcelFile - ExcelFile already has the engine set\u001b[39m\u001b[38;5;124m\"\u001b[39m\n\u001b[0;32m    505\u001b[0m     )\n",
      "File \u001b[1;32mD:\\CAU_Uni\\Semester_8\\EI\\Anaconda\\Lib\\site-packages\\pandas\\io\\excel\\_base.py:1550\u001b[0m, in \u001b[0;36mExcelFile.__init__\u001b[1;34m(self, path_or_buffer, engine, storage_options, engine_kwargs)\u001b[0m\n\u001b[0;32m   1548\u001b[0m     ext \u001b[38;5;241m=\u001b[39m \u001b[38;5;124m\"\u001b[39m\u001b[38;5;124mxls\u001b[39m\u001b[38;5;124m\"\u001b[39m\n\u001b[0;32m   1549\u001b[0m \u001b[38;5;28;01melse\u001b[39;00m:\n\u001b[1;32m-> 1550\u001b[0m     ext \u001b[38;5;241m=\u001b[39m inspect_excel_format(\n\u001b[0;32m   1551\u001b[0m         content_or_path\u001b[38;5;241m=\u001b[39mpath_or_buffer, storage_options\u001b[38;5;241m=\u001b[39mstorage_options\n\u001b[0;32m   1552\u001b[0m     )\n\u001b[0;32m   1553\u001b[0m     \u001b[38;5;28;01mif\u001b[39;00m ext \u001b[38;5;129;01mis\u001b[39;00m \u001b[38;5;28;01mNone\u001b[39;00m:\n\u001b[0;32m   1554\u001b[0m         \u001b[38;5;28;01mraise\u001b[39;00m \u001b[38;5;167;01mValueError\u001b[39;00m(\n\u001b[0;32m   1555\u001b[0m             \u001b[38;5;124m\"\u001b[39m\u001b[38;5;124mExcel file format cannot be determined, you must specify \u001b[39m\u001b[38;5;124m\"\u001b[39m\n\u001b[0;32m   1556\u001b[0m             \u001b[38;5;124m\"\u001b[39m\u001b[38;5;124man engine manually.\u001b[39m\u001b[38;5;124m\"\u001b[39m\n\u001b[0;32m   1557\u001b[0m         )\n",
      "File \u001b[1;32mD:\\CAU_Uni\\Semester_8\\EI\\Anaconda\\Lib\\site-packages\\pandas\\io\\excel\\_base.py:1402\u001b[0m, in \u001b[0;36minspect_excel_format\u001b[1;34m(content_or_path, storage_options)\u001b[0m\n\u001b[0;32m   1399\u001b[0m \u001b[38;5;28;01mif\u001b[39;00m \u001b[38;5;28misinstance\u001b[39m(content_or_path, \u001b[38;5;28mbytes\u001b[39m):\n\u001b[0;32m   1400\u001b[0m     content_or_path \u001b[38;5;241m=\u001b[39m BytesIO(content_or_path)\n\u001b[1;32m-> 1402\u001b[0m \u001b[38;5;28;01mwith\u001b[39;00m get_handle(\n\u001b[0;32m   1403\u001b[0m     content_or_path, \u001b[38;5;124m\"\u001b[39m\u001b[38;5;124mrb\u001b[39m\u001b[38;5;124m\"\u001b[39m, storage_options\u001b[38;5;241m=\u001b[39mstorage_options, is_text\u001b[38;5;241m=\u001b[39m\u001b[38;5;28;01mFalse\u001b[39;00m\n\u001b[0;32m   1404\u001b[0m ) \u001b[38;5;28;01mas\u001b[39;00m handle:\n\u001b[0;32m   1405\u001b[0m     stream \u001b[38;5;241m=\u001b[39m handle\u001b[38;5;241m.\u001b[39mhandle\n\u001b[0;32m   1406\u001b[0m     stream\u001b[38;5;241m.\u001b[39mseek(\u001b[38;5;241m0\u001b[39m)\n",
      "File \u001b[1;32mD:\\CAU_Uni\\Semester_8\\EI\\Anaconda\\Lib\\site-packages\\pandas\\io\\common.py:882\u001b[0m, in \u001b[0;36mget_handle\u001b[1;34m(path_or_buf, mode, encoding, compression, memory_map, is_text, errors, storage_options)\u001b[0m\n\u001b[0;32m    873\u001b[0m         handle \u001b[38;5;241m=\u001b[39m \u001b[38;5;28mopen\u001b[39m(\n\u001b[0;32m    874\u001b[0m             handle,\n\u001b[0;32m    875\u001b[0m             ioargs\u001b[38;5;241m.\u001b[39mmode,\n\u001b[1;32m   (...)\u001b[0m\n\u001b[0;32m    878\u001b[0m             newline\u001b[38;5;241m=\u001b[39m\u001b[38;5;124m\"\u001b[39m\u001b[38;5;124m\"\u001b[39m,\n\u001b[0;32m    879\u001b[0m         )\n\u001b[0;32m    880\u001b[0m     \u001b[38;5;28;01melse\u001b[39;00m:\n\u001b[0;32m    881\u001b[0m         \u001b[38;5;66;03m# Binary mode\u001b[39;00m\n\u001b[1;32m--> 882\u001b[0m         handle \u001b[38;5;241m=\u001b[39m \u001b[38;5;28mopen\u001b[39m(handle, ioargs\u001b[38;5;241m.\u001b[39mmode)\n\u001b[0;32m    883\u001b[0m     handles\u001b[38;5;241m.\u001b[39mappend(handle)\n\u001b[0;32m    885\u001b[0m \u001b[38;5;66;03m# Convert BytesIO or file objects passed with an encoding\u001b[39;00m\n",
      "\u001b[1;31mFileNotFoundError\u001b[0m: [Errno 2] No such file or directory: 'data/ZA8732_v1-0-0.xlsx'"
     ]
    }
   ],
   "source": [
    "df = pd.read_excel('ZA8732_v1-0-0.xlsx')\n",
    "question_regex_filter = r'[f]\\d+_\\d+'\n",
    "questions = df.filter(regex=question_regex_filter, axis=\"columns\")\n",
    "personal_data_regex_filter=r'[s]\\d'\n",
    "personal_data = df.filter(regex=personal_data_regex_filter, axis=\"columns\")\n",
    "\n",
    "col_bundesland_index = 's3'\n",
    "col_bundesland = personal_data[col_bundesland_index]\n",
    "\n",
    "df"
   ]
  },
  {
   "cell_type": "markdown",
   "id": "93033ff2e8041f0",
   "metadata": {},
   "source": [
    "## Define order of answers (all answers in one)\n",
    "Simply add answers to this array"
   ]
  },
  {
   "cell_type": "code",
   "execution_count": null,
   "id": "f28ce450f9c67395",
   "metadata": {},
   "outputs": [],
   "source": [
    "answers_ordered = [\n",
    "    \"Weiß nicht/ Keine Angabe\",\n",
    "    \"gar nicht\",\n",
    "    \"weniger stark\",\n",
    "    \"stark\",\n",
    "    \"sehr stark\",\n",
    "    \"Antwort1\",\n",
    "    \"Antwort2\",\n",
    "    \"Antwort3\",\n",
    "    \"Antwort4\",\n",
    "    \"Antwort5\",\n",
    "];"
   ]
  },
  {
   "cell_type": "code",
   "execution_count": null,
   "id": "2a1217ac93362f0b",
   "metadata": {},
   "outputs": [],
   "source": [
    "from ipywidgets import widgets\n",
    "question_selection = widgets.Dropdown(\n",
    "    options=questions.columns,\n",
    "    value=questions.columns[0],\n",
    "    description='Question:',\n",
    "    disabled=False\n",
    ")\n",
    "display(question_selection)\n",
    "\n",
    "names_germany_west = [\n",
    "    'Hamburg',\n",
    "    \"Schleswig Holstein\",\n",
    "    \"Nordrhein Westfalen\",\n",
    "    \"Bayern\",\n",
    "    \"Baden Württemberg\",\n",
    "    \"Niedersachsen\",\n",
    "    \"Hessen\",\n",
    "    \"Rheinland Pfalz\",\n",
    "    \"Bremen\",\n",
    "    \"Saarland\"]\n",
    "names_germany_east = [\"Berlin\", \"Sachsen\", \"Thüringen\", \"Bandenburg\", \"Mecklenburg Vorpommern\", \"Sachsen Anhalt\"]\n",
    "names_germany_west.sort()\n",
    "names_germany_east.sort()\n",
    "\n",
    "bundeslander_values = col_bundesland.value_counts()\n",
    "question_country_selector = widgets.SelectMultiple(\n",
    "    options=sorted(bundeslander_values.keys()),\n",
    "    value=[bundeslander_values.keys()[0]],\n",
    "    description='Bundesland:',\n",
    "    disabled=False\n",
    ")\n",
    "bundeslander_presets = widgets.ToggleButtons(\n",
    "    options=['West', 'East', 'Free Selection'],\n",
    "    description='Preset:',\n",
    "    disabled=False,\n",
    "    button_style='', # 'success', 'info', 'warning', 'danger' or ''\n",
    "    tooltips=['Description of slow', 'Description of regular', 'Description of fast']\n",
    ")\n",
    "def on_preset_change(name):\n",
    "    question_country_selector.value = names_germany_west if name.value == 'West' else names_germany_east\n",
    "    print(name)\n",
    "bundeslander_presets.observe(on_preset_change, names='value')\n",
    "display(bundeslander_presets)\n",
    "display(question_country_selector)\n",
    "\n"
   ]
  },
  {
   "cell_type": "markdown",
   "id": "efb1747aee1bb736",
   "metadata": {},
   "source": [
    "# Prepare dataframe for specific answer"
   ]
  },
  {
   "cell_type": "code",
   "execution_count": null,
   "id": "44ebe5d26bc7e30",
   "metadata": {},
   "outputs": [],
   "source": [
    "country_question_df = df[[col_bundesland_index, question_selection.value]]\n",
    "df_west = country_question_df.loc[df[col_bundesland_index].isin(names_germany_west)]\n",
    "df_east = country_question_df.loc[df[col_bundesland_index].isin(names_germany_east)]\n",
    "\n",
    "value_counts_series = {'All': country_question_df[question_selection.value].value_counts(), 'West': df_west[question_selection.value].value_counts(), 'East': df_east[question_selection.value].value_counts()}\n",
    "for bun in [*names_germany_west, *names_germany_east]:\n",
    "    value_counts_series[bun] = country_question_df.loc[df[col_bundesland_index] == bun][question_selection.value].value_counts()\n",
    "\n",
    "answers_df = pd.DataFrame(value_counts_series)\n",
    "sorted_labels = [label for label in answers_ordered if label in answers_df.index]\n",
    "sorted_labels = sorted_labels + [label for label in answers_df.index if label not in sorted_labels]\n",
    "answers_df = answers_df.reindex(sorted_labels)\n",
    "answers_df = answers_df.fillna(0).astype(int) # Sort based on ordered list\n",
    "\n",
    "display(sorted_labels)\n",
    "display(answers_df.loc[:,question_country_selector.value])\n",
    "display(answers_df)\n"
   ]
  }
 ],
 "metadata": {
  "kernelspec": {
   "display_name": "Python 3 (ipykernel)",
   "language": "python",
   "name": "python3"
  },
  "language_info": {
   "codemirror_mode": {
    "name": "ipython",
    "version": 3
   },
   "file_extension": ".py",
   "mimetype": "text/x-python",
   "name": "python",
   "nbconvert_exporter": "python",
   "pygments_lexer": "ipython3",
   "version": "3.12.4"
  }
 },
 "nbformat": 4,
 "nbformat_minor": 5
}
